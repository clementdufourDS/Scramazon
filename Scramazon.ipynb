{
 "cells": [
  {
   "cell_type": "code",
   "execution_count": 13,
   "id": "fdf82a23",
   "metadata": {},
   "outputs": [],
   "source": [
    "import requests\n",
    "from bs4 import BeautifulSoup\n",
    "import pandas as pd\n",
    "import sqlite3"
   ]
  },
  {
   "cell_type": "code",
   "execution_count": 14,
   "id": "2c65fa5f",
   "metadata": {},
   "outputs": [],
   "source": [
    "# J'ouvre ma session request\n",
    "s = requests.Session()\n",
    "#Je crée une définition qui va me permettre de créer ma soup avec un url\n",
    "def get_soup(url):\n",
    "    response = s.get(url)\n",
    "    soup = BeautifulSoup(response.text, 'html.parser')\n",
    "    return soup"
   ]
  },
  {
   "cell_type": "code",
   "execution_count": 15,
   "id": "2123af36",
   "metadata": {},
   "outputs": [],
   "source": [
    "soup = get_soup('https://scramazon.rbean.io/')"
   ]
  },
  {
   "cell_type": "code",
   "execution_count": 5,
   "id": "89047db8",
   "metadata": {},
   "outputs": [],
   "source": [
    "main_cat = soup.find_all('h3',{'class':'mb-2'})"
   ]
  },
  {
   "cell_type": "code",
   "execution_count": 6,
   "id": "ce1cb1d4",
   "metadata": {},
   "outputs": [],
   "source": [
    "main_cat = []\n",
    "main_cat_url = []\n",
    "for i in soup.find_all('h3'):\n",
    "    try:\n",
    "        main_cat.append(i.find('a',{'class':'text-dark'}).text)\n",
    "        main_cat_url.append(i.find('a',{'class':'text-dark'},href = True)['href'])\n",
    "    except:\n",
    "        continue"
   ]
  },
  {
   "cell_type": "code",
   "execution_count": 7,
   "id": "2ae8d130",
   "metadata": {},
   "outputs": [],
   "source": [
    "df_main = pd.DataFrame()\n",
    "df_main['Name'] = main_cat\n",
    "df_main['Slug'] = main_cat_url"
   ]
  },
  {
   "cell_type": "code",
   "execution_count": 8,
   "id": "791e1853",
   "metadata": {},
   "outputs": [
    {
     "data": {
      "text/html": [
       "<div>\n",
       "<style scoped>\n",
       "    .dataframe tbody tr th:only-of-type {\n",
       "        vertical-align: middle;\n",
       "    }\n",
       "\n",
       "    .dataframe tbody tr th {\n",
       "        vertical-align: top;\n",
       "    }\n",
       "\n",
       "    .dataframe thead th {\n",
       "        text-align: right;\n",
       "    }\n",
       "</style>\n",
       "<table border=\"1\" class=\"dataframe\">\n",
       "  <thead>\n",
       "    <tr style=\"text-align: right;\">\n",
       "      <th></th>\n",
       "      <th>Name</th>\n",
       "      <th>Slug</th>\n",
       "    </tr>\n",
       "  </thead>\n",
       "  <tbody>\n",
       "    <tr>\n",
       "      <th>0</th>\n",
       "      <td>Toys &amp; Games</td>\n",
       "      <td>/categories?slug=toys-games-0</td>\n",
       "    </tr>\n",
       "    <tr>\n",
       "      <th>1</th>\n",
       "      <td>Automotive</td>\n",
       "      <td>/categories?slug=automotive-0</td>\n",
       "    </tr>\n",
       "  </tbody>\n",
       "</table>\n",
       "</div>"
      ],
      "text/plain": [
       "           Name                           Slug\n",
       "0  Toys & Games  /categories?slug=toys-games-0\n",
       "1    Automotive  /categories?slug=automotive-0"
      ]
     },
     "execution_count": 8,
     "metadata": {},
     "output_type": "execute_result"
    }
   ],
   "source": [
    "df_main"
   ]
  },
  {
   "cell_type": "code",
   "execution_count": 30,
   "id": "5339bb2b",
   "metadata": {},
   "outputs": [],
   "source": [
    "sub_cat = []\n",
    "main_id = []\n",
    "\n",
    "for count,slug in enumerate(main_cat_url):\n",
    "    sub_cats = []\n",
    "    soup = get_soup('https://scramazon.rbean.io' + slug)\n",
    "    sub_cats.extend(soup.find_all('a',{'class':'text-truncate text-dark'}))\n",
    "    while True:\n",
    "        if soup.find_all('a',{'class':'page-link'})[-1].text == 'Next':\n",
    "            next_url = soup.find_all('a',{'class':'page-link'})[-1]['href']\n",
    "            soup  = get_soup('https://scramazon.rbean.io/categories' + next_url)\n",
    "            sub_cats.extend(soup.find_all('a',{'class':'text-truncate text-dark'}))\n",
    "\n",
    "        else:\n",
    "            break\n",
    "    for i in sub_cats:\n",
    "        sub_cat.append(i)\n",
    "        main_id.append(count)\n",
    "sub_cat_url = [i['href'] for i in sub_cat]\n",
    "sub_cat = [i.text for i in sub_cat]"
   ]
  },
  {
   "cell_type": "code",
   "execution_count": 31,
   "id": "667f1e1d",
   "metadata": {},
   "outputs": [],
   "source": [
    "df_subcat = pd.DataFrame()\n",
    "df_subcat['Name'] = sub_cat\n",
    "df_subcat['Slug'] = sub_cat_url\n",
    "df_subcat['MainCategoryId'] = main_id"
   ]
  },
  {
   "cell_type": "code",
   "execution_count": 41,
   "id": "091d9446",
   "metadata": {},
   "outputs": [],
   "source": [
    "product = []\n",
    "product_url = []\n",
    "sub_cat_id = []\n",
    "for count,slug in enumerate(sub_cat_url):\n",
    "    products = []\n",
    "    soup = get_soup('https://scramazon.rbean.io'+slug)\n",
    "    products.extend(soup.find_all('h5',{'class':'card-title'}))\n",
    "    product_url.extend(soup.find_all('a',{'class':'btn btn-primary mt-auto mx-auto'}))\n",
    "    while True:\n",
    "        try:\n",
    "            if soup.find_all('a',{'class':'page-link'})[-1].text == 'Next':\n",
    "                next_url = soup.find_all('a',{'class':'page-link'})[-1]['href']\n",
    "                soup  = get_soup('https://scramazon.rbean.io/categories' + next_url)\n",
    "                products.extend(soup.find_all('h5',{'class':'card-title'}))\n",
    "                product_url.extend(soup.find_all('a',{'class':'btn btn-primary mt-auto mx-auto'}))\n",
    "            else:\n",
    "                break\n",
    "        except:\n",
    "            break\n",
    "    for i in products:\n",
    "        product.append(i)\n",
    "        sub_cat_id.append(count)\n",
    "product = [i.text for i in product]\n",
    "product_url = [i['href'] for i in product_url]"
   ]
  },
  {
   "cell_type": "code",
   "execution_count": 42,
   "id": "dd768c52",
   "metadata": {},
   "outputs": [],
   "source": [
    "df_product = pd.DataFrame()\n",
    "df_product['Name'] = product\n",
    "df_product['Slug'] = product_url\n",
    "df_product['SubCategoryId'] = sub_cat_id"
   ]
  },
  {
   "cell_type": "code",
   "execution_count": 44,
   "id": "c230a4cb",
   "metadata": {},
   "outputs": [],
   "source": [
    "df_product_no_dup = df_product.drop_duplicates(subset=['Slug']).reset_index().drop(columns='index')"
   ]
  },
  {
   "cell_type": "code",
   "execution_count": 45,
   "id": "30cca6b3",
   "metadata": {},
   "outputs": [],
   "source": [
    "id_p = []\n",
    "id_sc = []\n",
    "for count,slug in enumerate(df_product_no_dup['Slug']):\n",
    "    for id_s in df_product[df_product['Slug'] == slug]['SubCategoryId']:\n",
    "        id_p.append(count)\n",
    "        id_sc.append(id_s)\n",
    "    "
   ]
  },
  {
   "cell_type": "code",
   "execution_count": 36,
   "id": "ef4e935a",
   "metadata": {},
   "outputs": [],
   "source": [
    "comment = []\n",
    "note = []\n",
    "prod_id = []\n",
    "for count,slug in enumerate(df_product['Slug']):\n",
    "    soup = get_soup('https://scramazon.rbean.io'+slug)\n",
    "    for i in soup.find_all('div',{'class':'d-flex flex-column border bg-light mb-2 rounded-lg p-3'}):\n",
    "            note.append(len(i.find_all('svg',{'class':'fill-star'})))\n",
    "            comment.append(i.find('p').text.strip())\n",
    "            prod_id.append(count)"
   ]
  },
  {
   "cell_type": "code",
   "execution_count": 37,
   "id": "c6713ffe",
   "metadata": {},
   "outputs": [],
   "source": [
    "df_note = pd.DataFrame()\n",
    "df_note['Value'] = note\n",
    "df_note['Comment'] = comment\n",
    "df_note['ProductId'] = prod_id"
   ]
  },
  {
   "cell_type": "code",
   "execution_count": 48,
   "id": "f51c7e5a",
   "metadata": {},
   "outputs": [],
   "source": [
    "df_catprod = pd.DataFrame()\n",
    "df_catprod['SubCategoryId'] = id_sc\n",
    "df_catprod['ProductId'] = id_p"
   ]
  },
  {
   "cell_type": "code",
   "execution_count": 51,
   "id": "312a7eab",
   "metadata": {},
   "outputs": [],
   "source": [
    "df_catprod_no_dup = df_catprod.drop_duplicates()"
   ]
  },
  {
   "cell_type": "code",
   "execution_count": 52,
   "id": "0fc8815b",
   "metadata": {},
   "outputs": [],
   "source": [
    "import sqlite3\n",
    "\n",
    "conn = sqlite3.connect('scram.db')\n",
    "c = conn.cursor()\n",
    "\n",
    "c.execute(''' \n",
    "DROP TABLE IF EXISTS Note;\n",
    "          ''')\n",
    "c.execute(''' \n",
    "DROP TABLE IF EXISTS CategoryProduct;\n",
    "          ''')\n",
    "c.execute(''' \n",
    "DROP TABLE IF EXISTS Product;\n",
    "          ''')\n",
    "c.execute(''' \n",
    "DROP TABLE IF EXISTS SubCategory;\n",
    "          ''')\n",
    "c.execute(''' \n",
    "DROP TABLE IF EXISTS MainCategory;\n",
    "          ''')\n",
    "\n",
    "c.execute('CREATE TABLE IF NOT EXISTS MainCategory (ID INT PRIMARY KEY,Name STRING NOT NULL, Slug NOT NULL)')\n",
    "conn.commit()\n",
    "\n",
    "df_main.to_sql('MainCategory', conn, if_exists='replace', index = True, index_label ='ID')\n",
    "\n",
    "\n",
    "\n",
    "c.execute('CREATE TABLE IF NOT EXISTS SubCategory (ID INT PRIMARY KEY NOT NULL,Name STRING NOT NULL, Slug NOT NULL, MainCategoryID,FOREIGN KEY(MainCategoryID) REFERENCES MainCategory(ID))')\n",
    "conn.commit()\n",
    "\n",
    "df_subcat.to_sql('SubCategory', conn, if_exists='replace', index = True, index_label ='ID')\n",
    "\n",
    "\n",
    "    \n",
    "c.execute('CREATE TABLE IF NOT EXISTS Product (ID INT PRIMARY KEY,Name STRING NOT NULL, Slug NOT NULL)')\n",
    "conn.commit()\n",
    "\n",
    "df_product_no_dup.to_sql('Product', conn, if_exists='replace', index = True, index_label ='ID')\n",
    " \n",
    "\n",
    "    \n",
    "c.execute('CREATE TABLE IF NOT EXISTS CategoryProduct (SubCategoryId INT NOT NULL, ProductId INT NOT NULL,FOREIGN KEY(SubCategoryId) REFERENCES SubCategory(ID),FOREIGN KEY(ProductId) REFERENCES Product(ID))')\n",
    "conn.commit()\n",
    "\n",
    "df_catprod_no_dup.to_sql('CategoryProduct', conn, if_exists='replace', index = False)\n",
    " \n",
    "c.execute('CREATE TABLE IF NOT EXISTS Note (ID INT PRIMARY KEY, Value INT NOT NULL,Comment STRING,ProductId,FOREIGN KEY(ProductId) REFERENCES Product(ID))')\n",
    "conn.commit()\n",
    "\n",
    "df_note.to_sql('Note',conn,if_exists='replace',index=True, index_label ='ID')\n",
    "\n",
    "c.close()\n",
    "conn.close()"
   ]
  }
 ],
 "metadata": {
  "kernelspec": {
   "display_name": "Python 3 (ipykernel)",
   "language": "python",
   "name": "python3"
  },
  "language_info": {
   "codemirror_mode": {
    "name": "ipython",
    "version": 3
   },
   "file_extension": ".py",
   "mimetype": "text/x-python",
   "name": "python",
   "nbconvert_exporter": "python",
   "pygments_lexer": "ipython3",
   "version": "3.9.13"
  }
 },
 "nbformat": 4,
 "nbformat_minor": 5
}
